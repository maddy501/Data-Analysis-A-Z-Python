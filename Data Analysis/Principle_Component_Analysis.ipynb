{
  "nbformat": 4,
  "nbformat_minor": 0,
  "metadata": {
    "kernelspec": {
      "display_name": "Python 3",
      "language": "python",
      "name": "python3"
    },
    "language_info": {
      "codemirror_mode": {
        "name": "ipython",
        "version": 3
      },
      "file_extension": ".py",
      "mimetype": "text/x-python",
      "name": "python",
      "nbconvert_exporter": "python",
      "pygments_lexer": "ipython3",
      "version": "3.7.6"
    },
    "colab": {
      "name": "PCA_InbuiltPython_functions.ipynb",
      "provenance": [],
      "collapsed_sections": []
    }
  },
  "cells": [
    {
      "cell_type": "markdown",
      "metadata": {
        "id": "qgkcbu8zzAfV"
      },
      "source": [
        "# **Principle Component Analysis**"
      ]
    },
    {
      "cell_type": "code",
      "metadata": {
        "id": "_ScFT9imIov0"
      },
      "source": [
        "import pandas as pd\n",
        "import numpy as np\n",
        "import matplotlib.pyplot as plt"
      ],
      "execution_count": null,
      "outputs": []
    },
    {
      "cell_type": "code",
      "metadata": {
        "id": "-883j-AeIov5",
        "colab": {
          "base_uri": "https://localhost:8080/",
          "height": 34
        },
        "outputId": "307391ce-7c68-4680-e74c-65c9b18bb438"
      },
      "source": [
        "data= pd.read_csv('SIT720.2-Step2.15-dataset5DGaussian.csv',delimiter=',', header=None).values\n",
        "print(data.shape)"
      ],
      "execution_count": null,
      "outputs": [
        {
          "output_type": "stream",
          "text": [
            "(200, 5)\n"
          ],
          "name": "stdout"
        }
      ]
    },
    {
      "cell_type": "code",
      "metadata": {
        "id": "IlTJo3mBIov-"
      },
      "source": [
        "#normalization \n",
        "from sklearn.preprocessing import scale\n",
        "Xnorm = scale(data)\n",
        "print(Xnorm)"
      ],
      "execution_count": null,
      "outputs": []
    },
    {
      "cell_type": "code",
      "metadata": {
        "id": "G_JXwmGsIowB",
        "outputId": "dce55620-bf5c-4fd3-ea07-c7acedf27e8c"
      },
      "source": [
        "#implementing PCA\n",
        "from sklearn.decomposition import PCA\n",
        "pca=PCA(n_components=5)\n",
        "pca.fit(Xnorm)"
      ],
      "execution_count": null,
      "outputs": [
        {
          "output_type": "execute_result",
          "data": {
            "text/plain": [
              "PCA(copy=True, iterated_power='auto', n_components=5, random_state=None,\n",
              "    svd_solver='auto', tol=0.0, whiten=False)"
            ]
          },
          "metadata": {
            "tags": []
          },
          "execution_count": 7
        }
      ]
    },
    {
      "cell_type": "code",
      "metadata": {
        "id": "wuYiHSODIowE",
        "outputId": "bdb0feca-9336-4b2c-d721-0095b32b994a"
      },
      "source": [
        "#see the variance\n",
        "var=pca.explained_variance_ratio_\n",
        "print(var)"
      ],
      "execution_count": null,
      "outputs": [
        {
          "output_type": "stream",
          "text": [
            "[0.83743065 0.09909097 0.0345153  0.01793089 0.01103218]\n"
          ],
          "name": "stdout"
        }
      ]
    },
    {
      "cell_type": "code",
      "metadata": {
        "id": "YPG3BSWKIowG",
        "outputId": "425e85ad-b3ae-4f23-e0a4-61fcda3235c5"
      },
      "source": [
        "#calculate cummulative variance\n",
        "\n",
        "#Cumulative Variance explains\n",
        "var1=np.cumsum(np.round(pca.explained_variance_ratio_, decimals=4)*100)\n",
        "print(var1)\n",
        "plt.plot(var1)\n",
        "plt.xlabel(\"Principal components\")\n",
        "plt.ylabel(\"Variance captured\")\n"
      ],
      "execution_count": null,
      "outputs": [
        {
          "output_type": "stream",
          "text": [
            "[83.74 93.65 97.1  98.89 99.99]\n"
          ],
          "name": "stdout"
        },
        {
          "output_type": "execute_result",
          "data": {
            "text/plain": [
              "Text(0, 0.5, 'Variance captured')"
            ]
          },
          "metadata": {
            "tags": []
          },
          "execution_count": 9
        },
        {
          "output_type": "display_data",
          "data": {
            "image/png": "[encoded data removed]",
            "text/plain": [
              "<Figure size 432x288 with 1 Axes>"
            ]
          },
          "metadata": {
            "tags": [],
            "needs_background": "light"
          }
        }
      ]
    },
    {
      "cell_type": "markdown",
      "metadata": {
        "id": "W2L_vPasIowI"
      },
      "source": [
        "So, if k is the number of principal components, we see that k=1\n",
        "k\n",
        "=\n",
        "1\n",
        " captures around 84%\n",
        "84\n",
        "%\n",
        " variance, k=2\n",
        "k\n",
        "=\n",
        "2\n",
        " (the first 2\n",
        "2\n",
        " components together) capture around 94%\n",
        "94\n",
        "%\n",
        "variance and so on. Since k=2\n",
        "k\n",
        "=\n",
        "2\n",
        " captures more than 90%\n",
        "90\n",
        "%\n",
        " variance in our data, lets drop the third, fourth and fifth components."
      ]
    },
    {
      "cell_type": "code",
      "metadata": {
        "id": "VGCeHxx-IowI",
        "outputId": "ec7f3fd6-7d5c-4925-d80c-50c9ad3a40b6"
      },
      "source": [
        "pca = PCA(n_components=2)\n",
        "Zred = pca.fit_transform(Xnorm)\n",
        "print(Zred.shape)"
      ],
      "execution_count": null,
      "outputs": [
        {
          "output_type": "stream",
          "text": [
            "(200, 2)\n"
          ],
          "name": "stdout"
        }
      ]
    },
    {
      "cell_type": "code",
      "metadata": {
        "id": "Bc9XfDgDIowK",
        "outputId": "88a20937-3362-4190-8e91-85b384de7bc8"
      },
      "source": [
        "#reconstruction error\n",
        "# Reconstruct our data\n",
        "Xrec = pca.inverse_transform(Zred)\n",
        "print(Xrec.shape)\n",
        "\n",
        "\n",
        "# Measure the reconstruction error\n",
        "rec_error = np.linalg.norm(Xnorm-Xrec, 'fro')/np.linalg.norm(Xnorm, 'fro')\n",
        "print(rec_error)"
      ],
      "execution_count": null,
      "outputs": [
        {
          "output_type": "stream",
          "text": [
            "(200, 5)\n",
            "0.25194914484908526\n"
          ],
          "name": "stdout"
        }
      ]
    },
    {
      "cell_type": "markdown",
      "metadata": {
        "id": "NYVYLt_XIowL"
      },
      "source": [
        "# **Influence of Dimensionality Reduction on Reconstruction error**\n",
        "\n",
        "Let us see how dropping the dimensionality of data affects the reconstruction error. We perform PCA using increasing number of principal components, and measure the reconstruction error in each case.\n"
      ]
    },
    {
      "cell_type": "code",
      "metadata": {
        "id": "t8DRRBG9IowL",
        "outputId": "3a89e00b-9163-4fe5-b5ad-5d553fb3d609"
      },
      "source": [
        "nSamples, nDims = Xnorm.shape\n",
        "\n",
        "# vary principal components from 1 to 5\n",
        "n_comp = range(1,nDims+1)\n",
        "print(n_comp)"
      ],
      "execution_count": null,
      "outputs": [
        {
          "output_type": "stream",
          "text": [
            "range(1, 6)\n"
          ],
          "name": "stdout"
        }
      ]
    },
    {
      "cell_type": "code",
      "metadata": {
        "id": "pzz1jSkTIowN",
        "outputId": "4f19b4e7-a7af-4980-d388-f97023390b0d"
      },
      "source": [
        "# Initialize vector of rec_error\n",
        "rec_error = np.zeros(len(n_comp)+1)\n",
        "\n",
        "for k in n_comp:\n",
        "    pca = PCA(n_components=k)\n",
        "    Zred = pca.fit_transform(Xnorm)\n",
        "    Xrec = pca.inverse_transform(Zred)\n",
        "    rec_error[k] = np.linalg.norm(Xnorm-Xrec, 'fro')/np.linalg.norm(Xnorm, 'fro')\n",
        "    print(\"k={}, rec_error={}\".format(k, rec_error[k]))\n",
        "\n",
        "rec_error = rec_error[1:] #we started recording from index 1, so drop index 0\n",
        "\n",
        "\n",
        "#Visualize the change in error\n",
        "plt.plot(n_comp,rec_error)\n",
        "plt.xlabel('No of principal components (k)')\n",
        "plt.ylabel('Reconstruction Error')"
      ],
      "execution_count": null,
      "outputs": [
        {
          "output_type": "stream",
          "text": [
            "k=1, rec_error=0.4031988912398407\n",
            "k=2, rec_error=0.25194914484908526\n",
            "k=3, rec_error=0.17018541021846642\n",
            "k=4, rec_error=0.10503420093051853\n",
            "k=5, rec_error=5.512638116475688e-16\n"
          ],
          "name": "stdout"
        },
        {
          "output_type": "execute_result",
          "data": {
            "text/plain": [
              "Text(0, 0.5, 'Reconstruction Error')"
            ]
          },
          "metadata": {
            "tags": []
          },
          "execution_count": 14
        },
        {
          "output_type": "display_data",
          "data": {
            "image/png": "[encoded data removed]",
            "text/plain": [
              "<Figure size 432x288 with 1 Axes>"
            ]
          },
          "metadata": {
            "tags": [],
            "needs_background": "light"
          }
        }
      ]
    }
  ]
}